{
 "cells": [
  {
   "cell_type": "code",
   "execution_count": null,
   "id": "3fc2eaa2",
   "metadata": {},
   "outputs": [],
   "source": [
    "def addition(a,b):\n",
    "    c=a+b\n",
    "    return c\n"
   ]
  },
  {
   "cell_type": "code",
   "execution_count": null,
   "id": "324916ca",
   "metadata": {},
   "outputs": [],
   "source": [
    "a=int(input('enter a no'))\n",
    "b=int(input('enter a no'))\n",
    "addition(a,b)"
   ]
  },
  {
   "cell_type": "code",
   "execution_count": null,
   "id": "7589f6b2",
   "metadata": {},
   "outputs": [],
   "source": [
    "def large(a,b,c):\n",
    "    if(a>b)and(a>c):\n",
    "        return a\n",
    "    elif b>a and b>c:\n",
    "        return b\n",
    "    else:\n",
    "        return c\n",
    "                  \n",
    "                "
   ]
  },
  {
   "cell_type": "code",
   "execution_count": null,
   "id": "0693a3dc",
   "metadata": {},
   "outputs": [],
   "source": [
    "a=int(input(\"enter a no: \"))\n",
    "b=int(input(\"enter a no: \"))\n",
    "c=int(input(\"enter a no: \"))\n",
    "print(\"large is\",large(a,b,c))"
   ]
  },
  {
   "cell_type": "code",
   "execution_count": null,
   "id": "3c7b7b6a",
   "metadata": {},
   "outputs": [],
   "source": [
    "score=[10,20,18,17,16,15,14]\n",
    "sc_set=set(score)\n",
    "top=max(sc_set)\n",
    "sc_set.remove(top)\n",
    "print(max(sc_set))"
   ]
  },
  {
   "cell_type": "code",
   "execution_count": null,
   "id": "f5b96b1e",
   "metadata": {},
   "outputs": [],
   "source": [
    "top"
   ]
  },
  {
   "cell_type": "code",
   "execution_count": null,
   "id": "0680dd78",
   "metadata": {},
   "outputs": [],
   "source": [
    "set1={5,4,3,2,1}\n",
    "set2={6,7,8,9,2}\n",
    "if set1.intersection(set2):\n",
    "    print(set1&set2)\n",
    "else:\n",
    "        print(set1.union(set2))"
   ]
  },
  {
   "cell_type": "code",
   "execution_count": 2,
   "id": "8bb0501f",
   "metadata": {},
   "outputs": [
    {
     "name": "stdout",
     "output_type": "stream",
     "text": [
      "Enter the name to be updated: Meena\n",
      "{'John': [25, 32, 43], 'Peter': [87, 55, 96], 'Ram': [58, 55, 43], 'Meena': [80, 77, 99]}\n"
     ]
    }
   ],
   "source": [
    "D={'John':[25,32,43],'Peter':[87,55,96],'Ram':[58,55,43],'Meena':[63,79,85]}\n",
    "n=input(\"Enter the name to be updated: \")\n",
    "if n in D:\n",
    "    D[n]=[80,77,99]\n",
    "    print(D)\n",
    "else:\n",
    "    print('the name not found')"
   ]
  },
  {
   "cell_type": "code",
   "execution_count": 3,
   "id": "ec6b8c36",
   "metadata": {},
   "outputs": [
    {
     "data": {
      "text/plain": [
       "'Nraa'"
      ]
     },
     "execution_count": 3,
     "metadata": {},
     "output_type": "execute_result"
    }
   ],
   "source": [
    "s='Nirmala'\n",
    "s[::2]"
   ]
  },
  {
   "cell_type": "code",
   "execution_count": 5,
   "id": "f7354673",
   "metadata": {},
   "outputs": [
    {
     "name": "stdout",
     "output_type": "stream",
     "text": [
      "elder= 36\n",
      "young= 23\n"
     ]
    }
   ],
   "source": [
    "age=[23,36,30]\n",
    "print('elder=',max(age))\n",
    "print('young=',min(age))"
   ]
  },
  {
   "cell_type": "code",
   "execution_count": null,
   "id": "839165de",
   "metadata": {},
   "outputs": [],
   "source": []
  }
 ],
 "metadata": {
  "kernelspec": {
   "display_name": "Python 3 (ipykernel)",
   "language": "python",
   "name": "python3"
  },
  "language_info": {
   "codemirror_mode": {
    "name": "ipython",
    "version": 3
   },
   "file_extension": ".py",
   "mimetype": "text/x-python",
   "name": "python",
   "nbconvert_exporter": "python",
   "pygments_lexer": "ipython3",
   "version": "3.11.5"
  }
 },
 "nbformat": 4,
 "nbformat_minor": 5
}
